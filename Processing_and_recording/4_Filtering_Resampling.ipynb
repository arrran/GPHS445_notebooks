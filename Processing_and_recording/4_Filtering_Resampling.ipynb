{
 "cells": [
  {
   "cell_type": "markdown",
   "metadata": {},
   "source": [
    "# Filtering and Resampling\n",
    "\n",
    "To include:\n",
    "- [ ] Different filter types\n",
    "- [ ] Filter slope and aliasing\n",
    "- [ ] Causal and acausal\n",
    "- [ ] How filters are represented (poles and zeros)\n",
    "- [ ] Plotting various filter windows and their effect on data (both time and freq domain)\n",
    "- [ ] Resampling - sinc as well as fourier - need to prefilter"
   ]
  },
  {
   "cell_type": "code",
   "execution_count": null,
   "metadata": {},
   "outputs": [],
   "source": []
  }
 ],
 "metadata": {
  "kernelspec": {
   "display_name": "Python 3",
   "language": "python",
   "name": "python3"
  },
  "language_info": {
   "codemirror_mode": {
    "name": "ipython",
    "version": 3
   },
   "file_extension": ".py",
   "mimetype": "text/x-python",
   "name": "python",
   "nbconvert_exporter": "python",
   "pygments_lexer": "ipython3",
   "version": "3.6.7"
  }
 },
 "nbformat": 4,
 "nbformat_minor": 2
}
