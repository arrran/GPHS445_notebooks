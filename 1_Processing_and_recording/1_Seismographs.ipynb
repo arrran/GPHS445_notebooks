{
 "cells": [
  {
   "cell_type": "markdown",
   "metadata": {},
   "source": [
    "# Seismographs\n",
    "\n",
    "Seismographs are the instruments that record seismic waves. Ideally seismographs will be be able to record a\n",
    "wide range of frequencies (*broadband*) and have a wide range of amplitudes (have a high *dynamic range*).\n",
    "\n",
    "This notebook is under construction, however, all relevant information for this course can be found in\n",
    "Stein and Wysession Chapter 6.6.\n",
    "\n",
    "To include:\n",
    "- [ ] Seismograph equation\n",
    "- [ ] Plotting to play with input function and output seismogram\n",
    "- [ ] Instrument response\n",
    "\n",
    "Additional reading: Hazskov, J. and Alguacil, G., Instrumentation in Earthquake Seismology: Chapter 2"
   ]
  }
 ],
 "metadata": {
  "kernelspec": {
   "display_name": "Python 3",
   "language": "python",
   "name": "python3"
  },
  "language_info": {
   "codemirror_mode": {
    "name": "ipython",
    "version": 3
   },
   "file_extension": ".py",
   "mimetype": "text/x-python",
   "name": "python",
   "nbconvert_exporter": "python",
   "pygments_lexer": "ipython3",
   "version": "3.6.7"
  }
 },
 "nbformat": 4,
 "nbformat_minor": 2
}
