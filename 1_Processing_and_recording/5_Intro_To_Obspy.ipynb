{
 "cells": [
  {
   "cell_type": "markdown",
   "metadata": {},
   "source": [
    "# Intro to Obspy\n",
    "\n",
    "Obspy is a Python package for seismology. It contains a wide range of tools, from fundamental input/output (IO) functions, up to higher\n",
    "level functions including noise analysis, beamforming and wrappers for travel-time calculations.  Obspy has rapidly gained popularity,\n",
    "as of February 2019, Obspy version 1.1.0 had been installed from conda-forge 11,720 times in the 3 months that it was the current version.\n",
    "\n",
    "## Python\n",
    "\n",
    "<img alt=\"Python logo\" align=\"right\" style=\"width:40%\" src=\"https://www.python.org/static/community_logos/python-logo-master-v3-TM.png\">\n",
    "\n",
    "Python as a language is widely used, both within the scientific community and in more applied work. It is also open-source, meaning that\n",
    "the licence limitations of something like Matlab are not an issue.  Because Python is widely used there are some fantastic libraries,\n",
    "meaning that you do not need to re-invent the wheel - someone has probably solved your problem already - meaning you can focus on\n",
    "doing science. Furthermore, because Python is used beyond academia, it is a useful, transferable language to learn.\n",
    "\n",
    "Python is an interpreted language, meaning that you do not need to actively compile code to machine code before executing your core\n",
    "(unlike languages like C or Fortran). This means that you can rapidly test short ideas, and allows us to make use of things like\n",
    "Jupyter notebooks and the iPython interpretter.  In general interpreted languages are slower than compilled languages, and this\n",
    "is generally true for Python as well.  However, because Python is simple to extend with compiled languages (particularly C), Python\n",
    "provide a good *glue* between faster code components.  It is normal to convert time-critical sections of code to C and link these\n",
    "to a Python library. Numpy makes good use of this, and links some very fast compiled maths libraries (LAPACK and BLAS) in to Python.\n",
    "\n",
    "## Obspy\n",
    "\n",
    "<img alt=\"Obspy logo\" align=\"right\" style=\"width:40%\" src=\"https://raw.github.com/obspy/website/master/logo/obspy_logo_full_highres.png\">\n",
    "\n",
    "Obspy is actively maintained, developed and tested by an international group of seismologists.  Obspy also implements a good \n",
    "*continuous integration* workflow, whereby any proposed changes to the package are tested before they are accepted. The complete\n",
    "package is also tested prior to release, ensuring that Obspy does what it is supposed to. This kind of testing is incredibly\n",
    "important, and, while it does not guarantee correctness, it is a very necessary step to test code to ensure that it does what\n",
    "you expect it to.  Obspy also has fairly extensive documentation and good examples and tutorials.\n",
    "\n",
    "This notebook provides a really brief overview of some of the \"every-day\" functionality of Obspy that you will use within this\n",
    "course.  We will cover:\n",
    "- Reading in seismic data\n",
    "- Plotting seismic data\n",
    "- Filtering seismic data\n",
    "- Getting data from data centres\n",
    "- Plotting spectrograms\n",
    "- Reading in event data\n",
    "- Plotting earthquake maps\n",
    "- Accesing relevant event information within a catalog"
   ]
  },
  {
   "cell_type": "code",
   "execution_count": null,
   "metadata": {},
   "outputs": [],
   "source": []
  }
 ],
 "metadata": {
  "kernelspec": {
   "display_name": "Python 3",
   "language": "python",
   "name": "python3"
  },
  "language_info": {
   "codemirror_mode": {
    "name": "ipython",
    "version": 3
   },
   "file_extension": ".py",
   "mimetype": "text/x-python",
   "name": "python",
   "nbconvert_exporter": "python",
   "pygments_lexer": "ipython3",
   "version": "3.6.7"
  }
 },
 "nbformat": 4,
 "nbformat_minor": 2
}
